{
 "cells": [
  {
   "cell_type": "code",
   "execution_count": 1,
   "id": "cafb14d5",
   "metadata": {},
   "outputs": [],
   "source": [
    "#Exercise 1-4\n",
    "#1.What type of algorithm would you use to segment a company customers database \n",
    "#into multiple groups?\n",
    "    #K-Means clustering\n",
    "\n",
    "#2.Would you frame the problem of spam detection as a supervised learning\n",
    "#problem or an unsupervised learning problem? Explain.\n",
    "    #Supervised because when you get an email your model will have examples of spam or not spam to \n",
    "    #decide what your incoming email is. \n",
    "    \n",
    "#3.What is a test set, and why would you want to use it?\n",
    "    #A test set is a sample of the data. You use a test set to test your  \n",
    "    #model after it’s been trained on the rest of your set of data. This can \n",
    "    #help you find discrepancies or errors within your model that you should improve \n",
    "    #before deploying it. \n",
    "    \n",
    "#4.You are training a classification model with 100 variables/features \n",
    "#that achieves 95% accuracy in the training dataset. However, when you run \n",
    "#it in the test dataset, you only get 60% accuracy. Which of the following options\n",
    "#are valid approached to solve this problem?\n",
    "    #e\n",
    "    \n",
    "    "
   ]
  },
  {
   "cell_type": "code",
   "execution_count": 2,
   "id": "894ba9d4",
   "metadata": {},
   "outputs": [
    {
     "data": {
      "text/html": [
       "<div>\n",
       "<style scoped>\n",
       "    .dataframe tbody tr th:only-of-type {\n",
       "        vertical-align: middle;\n",
       "    }\n",
       "\n",
       "    .dataframe tbody tr th {\n",
       "        vertical-align: top;\n",
       "    }\n",
       "\n",
       "    .dataframe thead th {\n",
       "        text-align: right;\n",
       "    }\n",
       "</style>\n",
       "<table border=\"1\" class=\"dataframe\">\n",
       "  <thead>\n",
       "    <tr style=\"text-align: right;\">\n",
       "      <th></th>\n",
       "      <th>No</th>\n",
       "      <th>transaction_date</th>\n",
       "      <th>house_age</th>\n",
       "      <th>distance_to_the_nearest_MRT_station</th>\n",
       "      <th>number_of_convenience_stores</th>\n",
       "      <th>latitude</th>\n",
       "      <th>longitude</th>\n",
       "      <th>house_price_of_unit_area</th>\n",
       "    </tr>\n",
       "  </thead>\n",
       "  <tbody>\n",
       "    <tr>\n",
       "      <th>0</th>\n",
       "      <td>1</td>\n",
       "      <td>2012.917</td>\n",
       "      <td>32.0</td>\n",
       "      <td>84.87882</td>\n",
       "      <td>10</td>\n",
       "      <td>24.98298</td>\n",
       "      <td>121.54024</td>\n",
       "      <td>37.9</td>\n",
       "    </tr>\n",
       "    <tr>\n",
       "      <th>1</th>\n",
       "      <td>2</td>\n",
       "      <td>2012.917</td>\n",
       "      <td>19.5</td>\n",
       "      <td>306.59470</td>\n",
       "      <td>9</td>\n",
       "      <td>24.98034</td>\n",
       "      <td>121.53951</td>\n",
       "      <td>42.2</td>\n",
       "    </tr>\n",
       "    <tr>\n",
       "      <th>2</th>\n",
       "      <td>3</td>\n",
       "      <td>2013.583</td>\n",
       "      <td>13.3</td>\n",
       "      <td>561.98450</td>\n",
       "      <td>5</td>\n",
       "      <td>24.98746</td>\n",
       "      <td>121.54391</td>\n",
       "      <td>47.3</td>\n",
       "    </tr>\n",
       "    <tr>\n",
       "      <th>3</th>\n",
       "      <td>4</td>\n",
       "      <td>2013.500</td>\n",
       "      <td>13.3</td>\n",
       "      <td>561.98450</td>\n",
       "      <td>5</td>\n",
       "      <td>24.98746</td>\n",
       "      <td>121.54391</td>\n",
       "      <td>54.8</td>\n",
       "    </tr>\n",
       "    <tr>\n",
       "      <th>4</th>\n",
       "      <td>5</td>\n",
       "      <td>2012.833</td>\n",
       "      <td>5.0</td>\n",
       "      <td>390.56840</td>\n",
       "      <td>5</td>\n",
       "      <td>24.97937</td>\n",
       "      <td>121.54245</td>\n",
       "      <td>43.1</td>\n",
       "    </tr>\n",
       "  </tbody>\n",
       "</table>\n",
       "</div>"
      ],
      "text/plain": [
       "   No  transaction_date  house_age  distance_to_the_nearest_MRT_station  \\\n",
       "0   1          2012.917       32.0                             84.87882   \n",
       "1   2          2012.917       19.5                            306.59470   \n",
       "2   3          2013.583       13.3                            561.98450   \n",
       "3   4          2013.500       13.3                            561.98450   \n",
       "4   5          2012.833        5.0                            390.56840   \n",
       "\n",
       "   number_of_convenience_stores  latitude  longitude  house_price_of_unit_area  \n",
       "0                            10  24.98298  121.54024                      37.9  \n",
       "1                             9  24.98034  121.53951                      42.2  \n",
       "2                             5  24.98746  121.54391                      47.3  \n",
       "3                             5  24.98746  121.54391                      54.8  \n",
       "4                             5  24.97937  121.54245                      43.1  "
      ]
     },
     "execution_count": 2,
     "metadata": {},
     "output_type": "execute_result"
    }
   ],
   "source": [
    "import boto3\n",
    "import pandas as pd; pd.set_option('display.max_column', 100)\n",
    "import numpy as np\n",
    "\n",
    "from sklearn.model_selection import train_test_split\n",
    "\n",
    "s3= boto3.resource('s3')\n",
    "bucket_name= 'morgangant-bata-445-bucket'\n",
    "bucket= s3.Bucket(bucket_name)\n",
    "\n",
    "file_key= 'Real_Estate.csv'\n",
    "\n",
    "bucket_object= bucket.Object(file_key)\n",
    "file_object = bucket_object.get()\n",
    "file_content_stream = file_object.get('Body')\n",
    "\n",
    "#reading the datefile\n",
    "house_price = pd.read_csv(file_content_stream)\n",
    "house_price.head()"
   ]
  },
  {
   "cell_type": "code",
   "execution_count": 3,
   "id": "13ad3cc8",
   "metadata": {},
   "outputs": [
    {
     "data": {
      "text/html": [
       "<div>\n",
       "<style scoped>\n",
       "    .dataframe tbody tr th:only-of-type {\n",
       "        vertical-align: middle;\n",
       "    }\n",
       "\n",
       "    .dataframe tbody tr th {\n",
       "        vertical-align: top;\n",
       "    }\n",
       "\n",
       "    .dataframe thead th {\n",
       "        text-align: right;\n",
       "    }\n",
       "</style>\n",
       "<table border=\"1\" class=\"dataframe\">\n",
       "  <thead>\n",
       "    <tr style=\"text-align: right;\">\n",
       "      <th></th>\n",
       "      <th>house_age</th>\n",
       "      <th>distance_to_the_nearest_MRT_station</th>\n",
       "      <th>number_of_convenience_stores</th>\n",
       "      <th>latitude</th>\n",
       "      <th>longitude</th>\n",
       "      <th>house_price_of_unit_area</th>\n",
       "    </tr>\n",
       "  </thead>\n",
       "  <tbody>\n",
       "    <tr>\n",
       "      <th>0</th>\n",
       "      <td>32.0</td>\n",
       "      <td>84.87882</td>\n",
       "      <td>10</td>\n",
       "      <td>24.98298</td>\n",
       "      <td>121.54024</td>\n",
       "      <td>37.9</td>\n",
       "    </tr>\n",
       "    <tr>\n",
       "      <th>1</th>\n",
       "      <td>19.5</td>\n",
       "      <td>306.59470</td>\n",
       "      <td>9</td>\n",
       "      <td>24.98034</td>\n",
       "      <td>121.53951</td>\n",
       "      <td>42.2</td>\n",
       "    </tr>\n",
       "    <tr>\n",
       "      <th>2</th>\n",
       "      <td>13.3</td>\n",
       "      <td>561.98450</td>\n",
       "      <td>5</td>\n",
       "      <td>24.98746</td>\n",
       "      <td>121.54391</td>\n",
       "      <td>47.3</td>\n",
       "    </tr>\n",
       "    <tr>\n",
       "      <th>3</th>\n",
       "      <td>13.3</td>\n",
       "      <td>561.98450</td>\n",
       "      <td>5</td>\n",
       "      <td>24.98746</td>\n",
       "      <td>121.54391</td>\n",
       "      <td>54.8</td>\n",
       "    </tr>\n",
       "    <tr>\n",
       "      <th>4</th>\n",
       "      <td>5.0</td>\n",
       "      <td>390.56840</td>\n",
       "      <td>5</td>\n",
       "      <td>24.97937</td>\n",
       "      <td>121.54245</td>\n",
       "      <td>43.1</td>\n",
       "    </tr>\n",
       "  </tbody>\n",
       "</table>\n",
       "</div>"
      ],
      "text/plain": [
       "   house_age  distance_to_the_nearest_MRT_station  \\\n",
       "0       32.0                             84.87882   \n",
       "1       19.5                            306.59470   \n",
       "2       13.3                            561.98450   \n",
       "3       13.3                            561.98450   \n",
       "4        5.0                            390.56840   \n",
       "\n",
       "   number_of_convenience_stores  latitude  longitude  house_price_of_unit_area  \n",
       "0                            10  24.98298  121.54024                      37.9  \n",
       "1                             9  24.98034  121.53951                      42.2  \n",
       "2                             5  24.98746  121.54391                      47.3  \n",
       "3                             5  24.98746  121.54391                      54.8  \n",
       "4                             5  24.97937  121.54245                      43.1  "
      ]
     },
     "execution_count": 3,
     "metadata": {},
     "output_type": "execute_result"
    }
   ],
   "source": [
    "#Drop column\n",
    "house_price= house_price.drop(columns= ['No', 'transaction_date'], axis=1)\n",
    "house_price.head()"
   ]
  },
  {
   "cell_type": "code",
   "execution_count": 4,
   "id": "6c3a4199",
   "metadata": {},
   "outputs": [],
   "source": [
    "from sklearn.model_selection import train_test_split\n",
    "\n",
    "#Define the input and target variable\n",
    "x= house_price.drop(columns= 'house_price_of_unit_area', axis=1)\n",
    "y= house_price['house_price_of_unit_area']\n",
    "\n",
    "#Splitting the data\n",
    "x_train, x_test, y_train, y_test = train_test_split(x, y, test_size= 0.2)"
   ]
  },
  {
   "cell_type": "code",
   "execution_count": 5,
   "id": "60571fdf",
   "metadata": {},
   "outputs": [],
   "source": [
    "from sklearn.linear_model import LinearRegression\n",
    "#Building Linear Model\n",
    "lm_md= LinearRegression().fit(x_train, y_train)"
   ]
  },
  {
   "cell_type": "code",
   "execution_count": 6,
   "id": "f9d8c182",
   "metadata": {},
   "outputs": [
    {
     "data": {
      "image/png": "[encoded data removed]",
      "text/plain": [
       "<Figure size 432x288 with 1 Axes>"
      ]
     },
     "metadata": {
      "needs_background": "light"
     },
     "output_type": "display_data"
    }
   ],
   "source": [
    "#Make predictions on test\n",
    "lm_pred= lm_md.predict(x_test)\n",
    "lm_pred #How good are these predictions?\n",
    "\n",
    "import matplotlib.pyplot as plt\n",
    "plt.scatter(lm_pred, y_test)\n",
    "plt.xlabel('Linear model predictions')\n",
    "plt.ylabel('Actual price values')\n",
    "plt.show()"
   ]
  },
  {
   "cell_type": "code",
   "execution_count": 6,
   "id": "d105ea27",
   "metadata": {},
   "outputs": [
    {
     "data": {
      "text/plain": [
       "139.0987969862719"
      ]
     },
     "execution_count": 6,
     "metadata": {},
     "output_type": "execute_result"
    }
   ],
   "source": [
    "#Computing MSE (Lower the better)\n",
    "MSE=np.mean((y_test-lm_pred)**2)\n",
    "MSE\n",
    "#139.098 (when I ran it)"
   ]
  },
  {
   "cell_type": "code",
   "execution_count": 7,
   "id": "a35c1c48",
   "metadata": {},
   "outputs": [],
   "source": [
    "x_train2= x_train.drop(columns='distance_to_the_nearest_MRT_station')\n",
    "lm_md= LinearRegression().fit(x_train2, y_train)"
   ]
  },
  {
   "cell_type": "code",
   "execution_count": 8,
   "id": "9b0d5d20",
   "metadata": {},
   "outputs": [
    {
     "data": {
      "image/png": "[encoded data removed]",
      "text/plain": [
       "<Figure size 432x288 with 1 Axes>"
      ]
     },
     "metadata": {
      "needs_background": "light"
     },
     "output_type": "display_data"
    }
   ],
   "source": [
    "#Make predictions on test\n",
    "x_test2=x_test.drop(columns='distance_to_the_nearest_MRT_station')\n",
    "lm_pred2= lm_md.predict(x_test2)\n",
    "lm_pred2 #How good are these predictions?\n",
    "\n",
    "import matplotlib.pyplot as plt\n",
    "plt.scatter(lm_pred2, y_test)\n",
    "plt.xlabel('Linear model predictions')\n",
    "plt.ylabel('Actual price values')\n",
    "plt.show()"
   ]
  },
  {
   "cell_type": "code",
   "execution_count": 9,
   "id": "bc197215",
   "metadata": {},
   "outputs": [
    {
     "data": {
      "text/plain": [
       "162.21958167325388"
      ]
     },
     "execution_count": 9,
     "metadata": {},
     "output_type": "execute_result"
    }
   ],
   "source": [
    "#Computing MSE (Lower the better)\n",
    "MSE2=np.mean((y_test-lm_pred2)**2)\n",
    "MSE2\n",
    "#162.22 (when I ran it)"
   ]
  },
  {
   "cell_type": "code",
   "execution_count": null,
   "id": "da0a4d85",
   "metadata": {},
   "outputs": [],
   "source": [
    "#f. Based on parts d and e, I woudl use the first model because I got a model with \n",
    "# an MSE about 10 less than the first model! When i ran it M1=139.098 and M2=162.22"
   ]
  },
  {
   "cell_type": "code",
   "execution_count": 16,
   "id": "7f01a6dc",
   "metadata": {},
   "outputs": [
    {
     "name": "stdout",
     "output_type": "stream",
     "text": [
      "[75.08667531826752, 53.51877081949957, 128.07007821159436, 62.279338857364465, 97.20100224817699, 84.6640896703689, 134.39385985679579, 70.47103906393535, 56.66502811398424, 46.66074977488501, 86.51868071635833, 93.56105406774529, 71.6306004284341, 58.9507591418372, 77.60343350414901, 79.900345596278, 52.54402297425798, 63.95254165814493, 79.72276220036373, 43.31632054725649, 44.90525106541771, 63.74205321498464, 80.33622523580267, 59.46995712936856, 120.81647698086539, 53.982689095368166, 145.41628322628796, 155.84967043793438, 73.95612080465611, 71.21107343495318, 80.74125704020693, 61.93580495538805, 66.48593407458871, 61.91856552047009, 57.217611842005745, 45.41127265329265, 64.29120319757675, 73.936969501259, 63.01327402361797, 70.36639730064084, 49.345562691777786, 75.91625460175077, 45.58886640985831, 84.30557422675845, 124.26857356518597, 73.69225384178407, 129.68774852675045, 107.10868841488137, 64.28715430375671, 66.25863471544913, 142.54347355126288, 56.75452072689039, 91.33047007712604, 158.57727279042737, 78.65928150680024, 65.18231175965676, 73.8316839705504, 42.881867995490396, 74.89612331033862, 82.92683407024609, 119.19906292933803, 50.98065652058516, 48.965287765646266, 65.10920642738375, 60.570890569920664, 121.17387223959325, 134.61301155370478, 65.27927767647611, 50.378158301645975, 82.39741747855042, 65.21102241633119, 53.6746162944618, 65.49360455539366, 136.3867007605987, 113.18915179851591, 56.189797722902924, 40.96029195924134, 69.3145472572127, 144.68511344099113, 161.2864842289183, 61.737194336256174, 80.66143956888803, 146.34084385024232, 126.51952410193665, 88.35353347838293, 45.81453094512042, 63.44332592661389, 145.79334896179472, 70.98390017532415, 143.58867847369004, 166.8997110277121, 47.3271740607866, 97.38682895112231, 137.15191836188563, 144.95024670328218, 79.11097093808948, 69.16768247049237, 100.0207598090742, 61.254516350595175, 146.87102885037743]\n"
     ]
    }
   ],
   "source": [
    "#Creating lists for results\n",
    "md1_results = list()\n",
    "md2_results = list()\n",
    "\n",
    "for x in range(0, 100):\n",
    "\n",
    "    #Define the input and target variable\n",
    "    x= house_price.drop(columns= 'house_price_of_unit_area', axis=1)\n",
    "    y= house_price['house_price_of_unit_area']\n",
    "\n",
    "    #Splitting the data\n",
    "    x_train, x_test, y_train, y_test = train_test_split(x, y, test_size= 0.2)\n",
    "    \n",
    "    #Building Linear Model\n",
    "    md1 = LinearRegression().fit(x_train, y_train)\n",
    "    \n",
    "    #Make predictions on test\n",
    "    md1_pred= md1.predict(x_test)\n",
    "    md1_results.append(np.mean((y_test - md1_pred)**2))\n",
    "    \n",
    "    #2nd LR Model\n",
    "    x_train2 = x_train.drop(columns='distance_to_the_nearest_MRT_station')\n",
    "    md2 = LinearRegression().fit(x_train2, y_train)\n",
    "    \n",
    "    #Make predictions on test\n",
    "    md2_pred= md2.predict(x_test.drop(columns='distance_to_the_nearest_MRT_station'))\n",
    "    md2_results.append(np.mean((y_test - md2_pred)**2))\n",
    "    \n",
    "print(md1_results)"
   ]
  },
  {
   "cell_type": "code",
   "execution_count": 17,
   "id": "633e829f",
   "metadata": {},
   "outputs": [
    {
     "data": {
      "image/png": "[encoded data removed]",
      "text/plain": [
       "<Figure size 432x288 with 1 Axes>"
      ]
     },
     "metadata": {
      "needs_background": "light"
     },
     "output_type": "display_data"
    }
   ],
   "source": [
    "x = [i for i in range(1, 101)]\n",
    "plt.plot(x, md1_results, color = 'blue')\n",
    "plt.plot(x, md2_results, color = 'orange')\n",
    "plt.xlabel('Split Number')\n",
    "plt.ylabel('MSE')\n",
    "plt.legend(loc = 'upper right', labels = ['Model 1', 'Model 2'])\n",
    "plt.grid()\n",
    "plt.show();"
   ]
  },
  {
   "cell_type": "code",
   "execution_count": 33,
   "id": "5aea260d",
   "metadata": {},
   "outputs": [],
   "source": [
    "#g. Based on my results, Model 1 was better most of the time. Therefore, I think \n",
    "#because it was the better the first time it ran, and then in the loop, model 1 \n",
    "#would be the best to proceed with!"
   ]
  },
  {
   "cell_type": "code",
   "execution_count": null,
   "id": "4e5881e2",
   "metadata": {},
   "outputs": [],
   "source": []
  }
 ],
 "metadata": {
  "kernelspec": {
   "display_name": "conda_python3",
   "language": "python",
   "name": "conda_python3"
  },
  "language_info": {
   "codemirror_mode": {
    "name": "ipython",
    "version": 3
   },
   "file_extension": ".py",
   "mimetype": "text/x-python",
   "name": "python",
   "nbconvert_exporter": "python",
   "pygments_lexer": "ipython3",
   "version": "3.8.12"
  }
 },
 "nbformat": 4,
 "nbformat_minor": 5
}

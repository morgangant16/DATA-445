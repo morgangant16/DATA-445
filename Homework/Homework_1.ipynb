{
 "cells": [
  {
   "cell_type": "code",
   "execution_count": null,
   "id": "b9b6adcb",
   "metadata": {},
   "outputs": [],
   "source": [
    "#Exercise 1-4\n",
    "#1.What type of algorithm would you use to segment a company customers database \n",
    "#into multiple groups?\n",
    "    #K-Means clustering\n",
    "\n",
    "#2.Would you frame the problem of spam detection as a supervised learning\n",
    "#problem or an unsupervised learning problem? Explain.\n",
    "    #Unsupervised because when you get an email for example, it won’t say it’s \n",
    "    #spam. It will have to go through the machine learning process, and it will \n",
    "    #detect if the email is spam or not!\n",
    "    \n",
    "#3.What is a test set, and why would you want to use it?\n",
    "    #A test set is a sample of the data. You use a test set to test your  \n",
    "    #model after it’s been trained on the rest of your set of data. This can \n",
    "    #help you find discrepancies or errors within your model that you should improve \n",
    "    #before deploying it. \n",
    "    \n",
    "#4.You are training a classification model with 100 variables/features \n",
    "#that achieves 95% accuracy in the training dataset. However, when you run \n",
    "#it in the test dataset, you only get 60% accuracy. Which of the following options\n",
    "#are valid approached to solve this problem?\n",
    "    #\n",
    "    \n",
    "    "
   ]
  },
  {
   "cell_type": "code",
   "execution_count": 42,
   "id": "e87865c4",
   "metadata": {},
   "outputs": [
    {
     "data": {
      "text/html": [
       "<div>\n",
       "<style scoped>\n",
       "    .dataframe tbody tr th:only-of-type {\n",
       "        vertical-align: middle;\n",
       "    }\n",
       "\n",
       "    .dataframe tbody tr th {\n",
       "        vertical-align: top;\n",
       "    }\n",
       "\n",
       "    .dataframe thead th {\n",
       "        text-align: right;\n",
       "    }\n",
       "</style>\n",
       "<table border=\"1\" class=\"dataframe\">\n",
       "  <thead>\n",
       "    <tr style=\"text-align: right;\">\n",
       "      <th></th>\n",
       "      <th>No</th>\n",
       "      <th>transaction_date</th>\n",
       "      <th>house_age</th>\n",
       "      <th>distance_to_the_nearest_MRT_station</th>\n",
       "      <th>number_of_convenience_stores</th>\n",
       "      <th>latitude</th>\n",
       "      <th>longitude</th>\n",
       "      <th>house_price_of_unit_area</th>\n",
       "    </tr>\n",
       "  </thead>\n",
       "  <tbody>\n",
       "    <tr>\n",
       "      <th>0</th>\n",
       "      <td>1</td>\n",
       "      <td>2012.917</td>\n",
       "      <td>32.0</td>\n",
       "      <td>84.87882</td>\n",
       "      <td>10</td>\n",
       "      <td>24.98298</td>\n",
       "      <td>121.54024</td>\n",
       "      <td>37.9</td>\n",
       "    </tr>\n",
       "    <tr>\n",
       "      <th>1</th>\n",
       "      <td>2</td>\n",
       "      <td>2012.917</td>\n",
       "      <td>19.5</td>\n",
       "      <td>306.59470</td>\n",
       "      <td>9</td>\n",
       "      <td>24.98034</td>\n",
       "      <td>121.53951</td>\n",
       "      <td>42.2</td>\n",
       "    </tr>\n",
       "    <tr>\n",
       "      <th>2</th>\n",
       "      <td>3</td>\n",
       "      <td>2013.583</td>\n",
       "      <td>13.3</td>\n",
       "      <td>561.98450</td>\n",
       "      <td>5</td>\n",
       "      <td>24.98746</td>\n",
       "      <td>121.54391</td>\n",
       "      <td>47.3</td>\n",
       "    </tr>\n",
       "    <tr>\n",
       "      <th>3</th>\n",
       "      <td>4</td>\n",
       "      <td>2013.500</td>\n",
       "      <td>13.3</td>\n",
       "      <td>561.98450</td>\n",
       "      <td>5</td>\n",
       "      <td>24.98746</td>\n",
       "      <td>121.54391</td>\n",
       "      <td>54.8</td>\n",
       "    </tr>\n",
       "    <tr>\n",
       "      <th>4</th>\n",
       "      <td>5</td>\n",
       "      <td>2012.833</td>\n",
       "      <td>5.0</td>\n",
       "      <td>390.56840</td>\n",
       "      <td>5</td>\n",
       "      <td>24.97937</td>\n",
       "      <td>121.54245</td>\n",
       "      <td>43.1</td>\n",
       "    </tr>\n",
       "  </tbody>\n",
       "</table>\n",
       "</div>"
      ],
      "text/plain": [
       "   No  transaction_date  house_age  distance_to_the_nearest_MRT_station  \\\n",
       "0   1          2012.917       32.0                             84.87882   \n",
       "1   2          2012.917       19.5                            306.59470   \n",
       "2   3          2013.583       13.3                            561.98450   \n",
       "3   4          2013.500       13.3                            561.98450   \n",
       "4   5          2012.833        5.0                            390.56840   \n",
       "\n",
       "   number_of_convenience_stores  latitude  longitude  house_price_of_unit_area  \n",
       "0                            10  24.98298  121.54024                      37.9  \n",
       "1                             9  24.98034  121.53951                      42.2  \n",
       "2                             5  24.98746  121.54391                      47.3  \n",
       "3                             5  24.98746  121.54391                      54.8  \n",
       "4                             5  24.97937  121.54245                      43.1  "
      ]
     },
     "execution_count": 42,
     "metadata": {},
     "output_type": "execute_result"
    }
   ],
   "source": [
    "import boto3\n",
    "import pandas as pd; pd.set_option('display.max_column', 100)\n",
    "import numpy as np\n",
    "\n",
    "s3= boto3.resource('s3')\n",
    "bucket_name= 'morgangant-bata-445-bucket'\n",
    "bucket= s3.Bucket(bucket_name)\n",
    "\n",
    "file_key= 'Real_Estate.csv'\n",
    "\n",
    "bucket_object= bucket.Object(file_key)\n",
    "file_object = bucket_object.get()\n",
    "file_content_stream = file_object.get('Body')\n",
    "\n",
    "#reading the datefile\n",
    "house_price = pd.read_csv(file_content_stream)\n",
    "house_price.head()"
   ]
  },
  {
   "cell_type": "code",
   "execution_count": 43,
   "id": "5369203b",
   "metadata": {},
   "outputs": [
    {
     "data": {
      "text/html": [
       "<div>\n",
       "<style scoped>\n",
       "    .dataframe tbody tr th:only-of-type {\n",
       "        vertical-align: middle;\n",
       "    }\n",
       "\n",
       "    .dataframe tbody tr th {\n",
       "        vertical-align: top;\n",
       "    }\n",
       "\n",
       "    .dataframe thead th {\n",
       "        text-align: right;\n",
       "    }\n",
       "</style>\n",
       "<table border=\"1\" class=\"dataframe\">\n",
       "  <thead>\n",
       "    <tr style=\"text-align: right;\">\n",
       "      <th></th>\n",
       "      <th>house_age</th>\n",
       "      <th>distance_to_the_nearest_MRT_station</th>\n",
       "      <th>number_of_convenience_stores</th>\n",
       "      <th>latitude</th>\n",
       "      <th>longitude</th>\n",
       "      <th>house_price_of_unit_area</th>\n",
       "    </tr>\n",
       "  </thead>\n",
       "  <tbody>\n",
       "    <tr>\n",
       "      <th>0</th>\n",
       "      <td>32.0</td>\n",
       "      <td>84.87882</td>\n",
       "      <td>10</td>\n",
       "      <td>24.98298</td>\n",
       "      <td>121.54024</td>\n",
       "      <td>37.9</td>\n",
       "    </tr>\n",
       "    <tr>\n",
       "      <th>1</th>\n",
       "      <td>19.5</td>\n",
       "      <td>306.59470</td>\n",
       "      <td>9</td>\n",
       "      <td>24.98034</td>\n",
       "      <td>121.53951</td>\n",
       "      <td>42.2</td>\n",
       "    </tr>\n",
       "    <tr>\n",
       "      <th>2</th>\n",
       "      <td>13.3</td>\n",
       "      <td>561.98450</td>\n",
       "      <td>5</td>\n",
       "      <td>24.98746</td>\n",
       "      <td>121.54391</td>\n",
       "      <td>47.3</td>\n",
       "    </tr>\n",
       "    <tr>\n",
       "      <th>3</th>\n",
       "      <td>13.3</td>\n",
       "      <td>561.98450</td>\n",
       "      <td>5</td>\n",
       "      <td>24.98746</td>\n",
       "      <td>121.54391</td>\n",
       "      <td>54.8</td>\n",
       "    </tr>\n",
       "    <tr>\n",
       "      <th>4</th>\n",
       "      <td>5.0</td>\n",
       "      <td>390.56840</td>\n",
       "      <td>5</td>\n",
       "      <td>24.97937</td>\n",
       "      <td>121.54245</td>\n",
       "      <td>43.1</td>\n",
       "    </tr>\n",
       "  </tbody>\n",
       "</table>\n",
       "</div>"
      ],
      "text/plain": [
       "   house_age  distance_to_the_nearest_MRT_station  \\\n",
       "0       32.0                             84.87882   \n",
       "1       19.5                            306.59470   \n",
       "2       13.3                            561.98450   \n",
       "3       13.3                            561.98450   \n",
       "4        5.0                            390.56840   \n",
       "\n",
       "   number_of_convenience_stores  latitude  longitude  house_price_of_unit_area  \n",
       "0                            10  24.98298  121.54024                      37.9  \n",
       "1                             9  24.98034  121.53951                      42.2  \n",
       "2                             5  24.98746  121.54391                      47.3  \n",
       "3                             5  24.98746  121.54391                      54.8  \n",
       "4                             5  24.97937  121.54245                      43.1  "
      ]
     },
     "execution_count": 43,
     "metadata": {},
     "output_type": "execute_result"
    }
   ],
   "source": [
    "#Drop column\n",
    "house_price= house_price.drop(columns= ['No', 'transaction_date'], axis=1)\n",
    "house_price.head()"
   ]
  },
  {
   "cell_type": "code",
   "execution_count": 44,
   "id": "4d4c0fa1",
   "metadata": {},
   "outputs": [],
   "source": [
    "from sklearn.model_selection import train_test_split\n",
    "\n",
    "#Define the input and target variable\n",
    "x= house_price.drop(columns= 'house_price_of_unit_area', axis=1)\n",
    "y= house_price['house_price_of_unit_area']\n",
    "\n",
    "#Splitting the data\n",
    "x_train, x_test, y_train, y_test = train_test_split(x, y, test_size= 0.2)"
   ]
  },
  {
   "cell_type": "code",
   "execution_count": 45,
   "id": "35cd98e6",
   "metadata": {},
   "outputs": [],
   "source": [
    "from sklearn.linear_model import LinearRegression\n",
    "#Building Linear Model\n",
    "lm_md= LinearRegression().fit(x_train, y_train)"
   ]
  },
  {
   "cell_type": "code",
   "execution_count": 46,
   "id": "57806423",
   "metadata": {},
   "outputs": [
    {
     "data": {
      "image/png": "[encoded data removed]",
      "text/plain": [
       "<Figure size 432x288 with 1 Axes>"
      ]
     },
     "metadata": {
      "needs_background": "light"
     },
     "output_type": "display_data"
    }
   ],
   "source": [
    "#Make predictions on test\n",
    "lm_pred= lm_md.predict(x_test)\n",
    "lm_pred #How good are these predictions?\n",
    "\n",
    "import matplotlib.pyplot as plt\n",
    "plt.scatter(lm_pred, y_test)\n",
    "plt.xlabel('Linear model predictions')\n",
    "plt.ylabel('Actual price values')\n",
    "plt.show()"
   ]
  },
  {
   "cell_type": "code",
   "execution_count": 47,
   "id": "7bec91d4",
   "metadata": {},
   "outputs": [
    {
     "data": {
      "text/plain": [
       "49.25141268453213"
      ]
     },
     "execution_count": 47,
     "metadata": {},
     "output_type": "execute_result"
    }
   ],
   "source": [
    "#Computing MSE (Lower the better)\n",
    "MSE=np.mean((y_test-lm_pred)**2)\n",
    "MSE"
   ]
  },
  {
   "cell_type": "code",
   "execution_count": 48,
   "id": "86c1e9f3",
   "metadata": {},
   "outputs": [],
   "source": [
    "x_train2= x_train.drop(columns='distance_to_the_nearest_MRT_station')\n",
    "lm_md= LinearRegression().fit(x_train2, y_train)"
   ]
  },
  {
   "cell_type": "code",
   "execution_count": 49,
   "id": "16013457",
   "metadata": {},
   "outputs": [
    {
     "data": {
      "image/png": "[encoded data removed]",
      "text/plain": [
       "<Figure size 432x288 with 1 Axes>"
      ]
     },
     "metadata": {
      "needs_background": "light"
     },
     "output_type": "display_data"
    }
   ],
   "source": [
    "#Make predictions on test\n",
    "x_test2=x_test.drop(columns='distance_to_the_nearest_MRT_station')\n",
    "lm_pred2= lm_md.predict(x_test2)\n",
    "lm_pred2 #How good are these predictions?\n",
    "\n",
    "import matplotlib.pyplot as plt\n",
    "plt.scatter(lm_pred2, y_test)\n",
    "plt.xlabel('Linear model predictions')\n",
    "plt.ylabel('Actual price values')\n",
    "plt.show()"
   ]
  },
  {
   "cell_type": "code",
   "execution_count": 50,
   "id": "51e5aaf9",
   "metadata": {},
   "outputs": [
    {
     "data": {
      "text/plain": [
       "59.45405986979649"
      ]
     },
     "execution_count": 50,
     "metadata": {},
     "output_type": "execute_result"
    }
   ],
   "source": [
    "#Computing MSE (Lower the better)\n",
    "MSE2=np.mean((y_test-lm_pred2)**2)\n",
    "MSE2"
   ]
  },
  {
   "cell_type": "code",
   "execution_count": 51,
   "id": "544190f0",
   "metadata": {},
   "outputs": [],
   "source": [
    "#f. Based on parts d and e, I woudl use the first model because I got a model with \n",
    "# an MSE about 10 less than the first model! When i ran it M1=67.8 and M2=78.12"
   ]
  },
  {
   "cell_type": "code",
   "execution_count": 59,
   "id": "b34172c7",
   "metadata": {},
   "outputs": [
    {
     "name": "stdout",
     "output_type": "stream",
     "text": [
      "[82.03423557]\n"
     ]
    }
   ],
   "source": [
    "for x in range(0, 100):\n",
    "    from sklearn.model_selection import train_test_split\n",
    "\n",
    "    #Define the input and target variable\n",
    "    x= house_price.drop(columns= 'house_price_of_unit_area', axis=1)\n",
    "    y= house_price['house_price_of_unit_area']\n",
    "\n",
    "    #Splitting the data\n",
    "    x_train, x_test, y_train, y_test = train_test_split(x, y, test_size= 0.2)\n",
    "    \n",
    "    from sklearn.linear_model import LinearRegression\n",
    "    #Building Linear Model\n",
    "    lm_md= LinearRegression().fit(x_train, y_train)\n",
    "    \n",
    "    #Make predictions on test\n",
    "    lm_pred= lm_md.predict(x_test)\n",
    "    lm_pred #How good are these predictions?\n",
    "    lm_pred_list=[]\n",
    "    lm_pred_list.append(lm_pred)\n",
    "\n",
    "    \n",
    "    #Computing MSE (Lower the better)\n",
    "    MSE=np.mean((y_test-lm_pred)**2)\n",
    "    MSE_list=[]\n",
    "    MSE_list.append(MSE)\n",
    "    \n",
    "    #2nd LR Model\n",
    "    x_train2= x_train.drop(columns='distance_to_the_nearest_MRT_station')\n",
    "    lm_md= LinearRegression().fit(x_train2, y_train)\n",
    "    \n",
    "    #Make predictions on test\n",
    "    x_test2=x_test.drop(columns='distance_to_the_nearest_MRT_station')\n",
    "    lm_pred2= lm_md.predict(x_test2)\n",
    "    lm_pred2_list=[] #How good are these predictions?\n",
    "    lm_pred2_list.append(lm_pred2)\n",
    "    \n",
    "    \n",
    "    #Computing MSE (Lower the better)\n",
    "    MSE2=np.mean((y_test-lm_pred2)**2)\n",
    "    MSE2_list=np.array([])\n",
    "    MSE2_list=np.append(MSE2_list, [MSE2])\n",
    "    \n",
    "    \n",
    "\n",
    "print(MSE2_list)\n",
    "#import matplotlib.pyplot as plt\n",
    "#print(*lm_pred_list)\n",
    "#print(*lm_pred2_list)\n",
    "#plt.plot(lm_pred_list, 'r', lm_pred2_list,'g') \n",
    "#plt.show()\n"
   ]
  },
  {
   "cell_type": "code",
   "execution_count": 33,
   "id": "3fc7ba0e",
   "metadata": {},
   "outputs": [],
   "source": [
    "#g. Based on my results, Model 1 was better 89% of the time. Therofre, I think \n",
    "#because it was the better the first time it ran, and then in the loop, model 1 \n",
    "#would be the best to proceed with!"
   ]
  },
  {
   "cell_type": "code",
   "execution_count": null,
   "id": "2592e0f2",
   "metadata": {},
   "outputs": [],
   "source": []
  }
 ],
 "metadata": {
  "kernelspec": {
   "display_name": "conda_python3",
   "language": "python",
   "name": "conda_python3"
  },
  "language_info": {
   "codemirror_mode": {
    "name": "ipython",
    "version": 3
   },
   "file_extension": ".py",
   "mimetype": "text/x-python",
   "name": "python",
   "nbconvert_exporter": "python",
   "pygments_lexer": "ipython3",
   "version": "3.8.12"
  }
 },
 "nbformat": 4,
 "nbformat_minor": 5
}

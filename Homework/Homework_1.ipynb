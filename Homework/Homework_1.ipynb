{
 "cells": [
  {
   "cell_type": "code",
   "execution_count": null,
   "id": "1e10a1d6",
   "metadata": {},
   "outputs": [],
   "source": [
    "#Exercise 1-4\n",
    "#1.What type of algorithm would you use to segment a company customers database \n",
    "#into multiple groups?\n",
    "    #K-Means clustering\n",
    "\n",
    "#2.Would you frame the problem of spam detection as a supervised learning\n",
    "#problem or an unsupervised learning problem? Explain.\n",
    "    #Supervised because when you get an email your model will have examples of spam or not spam to \n",
    "    #decide what your incoming email is. \n",
    "    \n",
    "#3.What is a test set, and why would you want to use it?\n",
    "    #A test set is a sample of the data. You use a test set to test your  \n",
    "    #model after it’s been trained on the rest of your set of data. This can \n",
    "    #help you find discrepancies or errors within your model that you should improve \n",
    "    #before deploying it. \n",
    "    \n",
    "#4.You are training a classification model with 100 variables/features \n",
    "#that achieves 95% accuracy in the training dataset. However, when you run \n",
    "#it in the test dataset, you only get 60% accuracy. Which of the following options\n",
    "#are valid approached to solve this problem?\n",
    "    #e\n",
    "    \n",
    "    "
   ]
  },
  {
   "cell_type": "code",
   "execution_count": 1,
   "id": "5982cd0e",
   "metadata": {},
   "outputs": [
    {
     "data": {
      "text/html": [
       "<div>\n",
       "<style scoped>\n",
       "    .dataframe tbody tr th:only-of-type {\n",
       "        vertical-align: middle;\n",
       "    }\n",
       "\n",
       "    .dataframe tbody tr th {\n",
       "        vertical-align: top;\n",
       "    }\n",
       "\n",
       "    .dataframe thead th {\n",
       "        text-align: right;\n",
       "    }\n",
       "</style>\n",
       "<table border=\"1\" class=\"dataframe\">\n",
       "  <thead>\n",
       "    <tr style=\"text-align: right;\">\n",
       "      <th></th>\n",
       "      <th>No</th>\n",
       "      <th>transaction_date</th>\n",
       "      <th>house_age</th>\n",
       "      <th>distance_to_the_nearest_MRT_station</th>\n",
       "      <th>number_of_convenience_stores</th>\n",
       "      <th>latitude</th>\n",
       "      <th>longitude</th>\n",
       "      <th>house_price_of_unit_area</th>\n",
       "    </tr>\n",
       "  </thead>\n",
       "  <tbody>\n",
       "    <tr>\n",
       "      <th>0</th>\n",
       "      <td>1</td>\n",
       "      <td>2012.917</td>\n",
       "      <td>32.0</td>\n",
       "      <td>84.87882</td>\n",
       "      <td>10</td>\n",
       "      <td>24.98298</td>\n",
       "      <td>121.54024</td>\n",
       "      <td>37.9</td>\n",
       "    </tr>\n",
       "    <tr>\n",
       "      <th>1</th>\n",
       "      <td>2</td>\n",
       "      <td>2012.917</td>\n",
       "      <td>19.5</td>\n",
       "      <td>306.59470</td>\n",
       "      <td>9</td>\n",
       "      <td>24.98034</td>\n",
       "      <td>121.53951</td>\n",
       "      <td>42.2</td>\n",
       "    </tr>\n",
       "    <tr>\n",
       "      <th>2</th>\n",
       "      <td>3</td>\n",
       "      <td>2013.583</td>\n",
       "      <td>13.3</td>\n",
       "      <td>561.98450</td>\n",
       "      <td>5</td>\n",
       "      <td>24.98746</td>\n",
       "      <td>121.54391</td>\n",
       "      <td>47.3</td>\n",
       "    </tr>\n",
       "    <tr>\n",
       "      <th>3</th>\n",
       "      <td>4</td>\n",
       "      <td>2013.500</td>\n",
       "      <td>13.3</td>\n",
       "      <td>561.98450</td>\n",
       "      <td>5</td>\n",
       "      <td>24.98746</td>\n",
       "      <td>121.54391</td>\n",
       "      <td>54.8</td>\n",
       "    </tr>\n",
       "    <tr>\n",
       "      <th>4</th>\n",
       "      <td>5</td>\n",
       "      <td>2012.833</td>\n",
       "      <td>5.0</td>\n",
       "      <td>390.56840</td>\n",
       "      <td>5</td>\n",
       "      <td>24.97937</td>\n",
       "      <td>121.54245</td>\n",
       "      <td>43.1</td>\n",
       "    </tr>\n",
       "  </tbody>\n",
       "</table>\n",
       "</div>"
      ],
      "text/plain": [
       "   No  transaction_date  house_age  distance_to_the_nearest_MRT_station  \\\n",
       "0   1          2012.917       32.0                             84.87882   \n",
       "1   2          2012.917       19.5                            306.59470   \n",
       "2   3          2013.583       13.3                            561.98450   \n",
       "3   4          2013.500       13.3                            561.98450   \n",
       "4   5          2012.833        5.0                            390.56840   \n",
       "\n",
       "   number_of_convenience_stores  latitude  longitude  house_price_of_unit_area  \n",
       "0                            10  24.98298  121.54024                      37.9  \n",
       "1                             9  24.98034  121.53951                      42.2  \n",
       "2                             5  24.98746  121.54391                      47.3  \n",
       "3                             5  24.98746  121.54391                      54.8  \n",
       "4                             5  24.97937  121.54245                      43.1  "
      ]
     },
     "execution_count": 1,
     "metadata": {},
     "output_type": "execute_result"
    }
   ],
   "source": [
    "import boto3\n",
    "import pandas as pd; pd.set_option('display.max_column', 100)\n",
    "import numpy as np\n",
    "\n",
    "from sklearn.model_selection import train_test_split\n",
    "\n",
    "s3= boto3.resource('s3')\n",
    "bucket_name= 'morgangant-bata-445-bucket'\n",
    "bucket= s3.Bucket(bucket_name)\n",
    "\n",
    "file_key= 'Real_Estate.csv'\n",
    "\n",
    "bucket_object= bucket.Object(file_key)\n",
    "file_object = bucket_object.get()\n",
    "file_content_stream = file_object.get('Body')\n",
    "\n",
    "#reading the datefile\n",
    "house_price = pd.read_csv(file_content_stream)\n",
    "house_price.head()"
   ]
  },
  {
   "cell_type": "code",
   "execution_count": 2,
   "id": "162acbe4",
   "metadata": {},
   "outputs": [
    {
     "data": {
      "text/html": [
       "<div>\n",
       "<style scoped>\n",
       "    .dataframe tbody tr th:only-of-type {\n",
       "        vertical-align: middle;\n",
       "    }\n",
       "\n",
       "    .dataframe tbody tr th {\n",
       "        vertical-align: top;\n",
       "    }\n",
       "\n",
       "    .dataframe thead th {\n",
       "        text-align: right;\n",
       "    }\n",
       "</style>\n",
       "<table border=\"1\" class=\"dataframe\">\n",
       "  <thead>\n",
       "    <tr style=\"text-align: right;\">\n",
       "      <th></th>\n",
       "      <th>house_age</th>\n",
       "      <th>distance_to_the_nearest_MRT_station</th>\n",
       "      <th>number_of_convenience_stores</th>\n",
       "      <th>latitude</th>\n",
       "      <th>longitude</th>\n",
       "      <th>house_price_of_unit_area</th>\n",
       "    </tr>\n",
       "  </thead>\n",
       "  <tbody>\n",
       "    <tr>\n",
       "      <th>0</th>\n",
       "      <td>32.0</td>\n",
       "      <td>84.87882</td>\n",
       "      <td>10</td>\n",
       "      <td>24.98298</td>\n",
       "      <td>121.54024</td>\n",
       "      <td>37.9</td>\n",
       "    </tr>\n",
       "    <tr>\n",
       "      <th>1</th>\n",
       "      <td>19.5</td>\n",
       "      <td>306.59470</td>\n",
       "      <td>9</td>\n",
       "      <td>24.98034</td>\n",
       "      <td>121.53951</td>\n",
       "      <td>42.2</td>\n",
       "    </tr>\n",
       "    <tr>\n",
       "      <th>2</th>\n",
       "      <td>13.3</td>\n",
       "      <td>561.98450</td>\n",
       "      <td>5</td>\n",
       "      <td>24.98746</td>\n",
       "      <td>121.54391</td>\n",
       "      <td>47.3</td>\n",
       "    </tr>\n",
       "    <tr>\n",
       "      <th>3</th>\n",
       "      <td>13.3</td>\n",
       "      <td>561.98450</td>\n",
       "      <td>5</td>\n",
       "      <td>24.98746</td>\n",
       "      <td>121.54391</td>\n",
       "      <td>54.8</td>\n",
       "    </tr>\n",
       "    <tr>\n",
       "      <th>4</th>\n",
       "      <td>5.0</td>\n",
       "      <td>390.56840</td>\n",
       "      <td>5</td>\n",
       "      <td>24.97937</td>\n",
       "      <td>121.54245</td>\n",
       "      <td>43.1</td>\n",
       "    </tr>\n",
       "  </tbody>\n",
       "</table>\n",
       "</div>"
      ],
      "text/plain": [
       "   house_age  distance_to_the_nearest_MRT_station  \\\n",
       "0       32.0                             84.87882   \n",
       "1       19.5                            306.59470   \n",
       "2       13.3                            561.98450   \n",
       "3       13.3                            561.98450   \n",
       "4        5.0                            390.56840   \n",
       "\n",
       "   number_of_convenience_stores  latitude  longitude  house_price_of_unit_area  \n",
       "0                            10  24.98298  121.54024                      37.9  \n",
       "1                             9  24.98034  121.53951                      42.2  \n",
       "2                             5  24.98746  121.54391                      47.3  \n",
       "3                             5  24.98746  121.54391                      54.8  \n",
       "4                             5  24.97937  121.54245                      43.1  "
      ]
     },
     "execution_count": 2,
     "metadata": {},
     "output_type": "execute_result"
    }
   ],
   "source": [
    "#Drop column\n",
    "house_price= house_price.drop(columns= ['No', 'transaction_date'], axis=1)\n",
    "house_price.head()"
   ]
  },
  {
   "cell_type": "code",
   "execution_count": 3,
   "id": "1b20d7a6",
   "metadata": {},
   "outputs": [],
   "source": [
    "from sklearn.model_selection import train_test_split\n",
    "\n",
    "#Define the input and target variable\n",
    "x= house_price.drop(columns= 'house_price_of_unit_area', axis=1)\n",
    "y= house_price['house_price_of_unit_area']\n",
    "\n",
    "#Splitting the data\n",
    "x_train, x_test, y_train, y_test = train_test_split(x, y, test_size= 0.2)"
   ]
  },
  {
   "cell_type": "code",
   "execution_count": 4,
   "id": "d1c1c12c",
   "metadata": {},
   "outputs": [],
   "source": [
    "from sklearn.linear_model import LinearRegression\n",
    "#Building Linear Model\n",
    "lm_md= LinearRegression().fit(x_train, y_train)"
   ]
  },
  {
   "cell_type": "code",
   "execution_count": 5,
   "id": "b4fb7d77",
   "metadata": {},
   "outputs": [
    {
     "data": {
      "image/png": "[encoded data removed]",
      "text/plain": [
       "<Figure size 432x288 with 1 Axes>"
      ]
     },
     "metadata": {
      "needs_background": "light"
     },
     "output_type": "display_data"
    }
   ],
   "source": [
    "#Make predictions on test\n",
    "lm_pred= lm_md.predict(x_test)\n",
    "lm_pred #How good are these predictions?\n",
    "\n",
    "import matplotlib.pyplot as plt\n",
    "plt.scatter(lm_pred, y_test)\n",
    "plt.xlabel('Linear model predictions')\n",
    "plt.ylabel('Actual price values')\n",
    "plt.show()"
   ]
  },
  {
   "cell_type": "code",
   "execution_count": 6,
   "id": "0a1ec751",
   "metadata": {},
   "outputs": [
    {
     "data": {
      "text/plain": [
       "139.0987969862719"
      ]
     },
     "execution_count": 6,
     "metadata": {},
     "output_type": "execute_result"
    }
   ],
   "source": [
    "#Computing MSE (Lower the better)\n",
    "MSE=np.mean((y_test-lm_pred)**2)\n",
    "MSE\n",
    "#139.098 (when I ran it)"
   ]
  },
  {
   "cell_type": "code",
   "execution_count": 7,
   "id": "1dc2ee9c",
   "metadata": {},
   "outputs": [],
   "source": [
    "x_train2= x_train.drop(columns='distance_to_the_nearest_MRT_station')\n",
    "lm_md= LinearRegression().fit(x_train2, y_train)"
   ]
  },
  {
   "cell_type": "code",
   "execution_count": 8,
   "id": "eda407d9",
   "metadata": {},
   "outputs": [
    {
     "data": {
      "image/png": "[encoded data removed]",
      "text/plain": [
       "<Figure size 432x288 with 1 Axes>"
      ]
     },
     "metadata": {
      "needs_background": "light"
     },
     "output_type": "display_data"
    }
   ],
   "source": [
    "#Make predictions on test\n",
    "x_test2=x_test.drop(columns='distance_to_the_nearest_MRT_station')\n",
    "lm_pred2= lm_md.predict(x_test2)\n",
    "lm_pred2 #How good are these predictions?\n",
    "\n",
    "import matplotlib.pyplot as plt\n",
    "plt.scatter(lm_pred2, y_test)\n",
    "plt.xlabel('Linear model predictions')\n",
    "plt.ylabel('Actual price values')\n",
    "plt.show()"
   ]
  },
  {
   "cell_type": "code",
   "execution_count": 9,
   "id": "f0f79da8",
   "metadata": {},
   "outputs": [
    {
     "data": {
      "text/plain": [
       "162.21958167325388"
      ]
     },
     "execution_count": 9,
     "metadata": {},
     "output_type": "execute_result"
    }
   ],
   "source": [
    "#Computing MSE (Lower the better)\n",
    "MSE2=np.mean((y_test-lm_pred2)**2)\n",
    "MSE2\n",
    "#162.22 (when I ran it)"
   ]
  },
  {
   "cell_type": "code",
   "execution_count": null,
   "id": "ba5b8c16",
   "metadata": {},
   "outputs": [],
   "source": [
    "#f. Based on parts d and e, I woudl use the first model because I got a model with \n",
    "# an MSE about 10 less than the first model! When i ran it M1=139.098 and M2=162.22"
   ]
  },
  {
   "cell_type": "code",
   "execution_count": 9,
   "id": "f861efcc",
   "metadata": {},
   "outputs": [],
   "source": [
    "#Creating lists for results\n",
    "md1_results = list()\n",
    "md2_results = list()\n",
    "\n",
    "for x in range(0, 100):\n",
    "\n",
    "    #Define the input and target variable\n",
    "    x= house_price.drop(columns= 'house_price_of_unit_area', axis=1)\n",
    "    y= house_price['house_price_of_unit_area']\n",
    "\n",
    "    #Splitting the data\n",
    "    x_train, x_test, y_train, y_test = train_test_split(x, y, test_size= 0.2)\n",
    "    \n",
    "    #Building Linear Model\n",
    "    md1 = LinearRegression().fit(x_train, y_train)\n",
    "    \n",
    "    #Make predictions on test\n",
    "    md1_pred= md1.predict(x_test)\n",
    "    md1_results.append(np.mean(y_test - md1_pred)**2)\n",
    "    \n",
    "    #2nd LR Model\n",
    "    x_train2 = x_train.drop(columns='distance_to_the_nearest_MRT_station')\n",
    "    md2 = LinearRegression().fit(x_train2, y_train)\n",
    "    \n",
    "    #Make predictions on test\n",
    "    md2_pred= md2.predict(x_test.drop(columns='distance_to_the_nearest_MRT_station'))\n",
    "    md2_results.append(np.mean(y_test - md2_pred)**2)"
   ]
  },
  {
   "cell_type": "code",
   "execution_count": 10,
   "id": "d06b6453",
   "metadata": {},
   "outputs": [
    {
     "data": {
      "image/png": "[encoded data removed]",
      "text/plain": [
       "<Figure size 432x288 with 1 Axes>"
      ]
     },
     "metadata": {
      "needs_background": "light"
     },
     "output_type": "display_data"
    }
   ],
   "source": [
    "x = [i for i in range(1, 101)]\n",
    "plt.plot(x, md1_results, color = 'blue')\n",
    "plt.plot(x, md2_results, color = 'orange')\n",
    "plt.xlabel('Split Number')\n",
    "plt.ylabel('MSE')\n",
    "plt.legend(loc = 'upper right', labels = ['Model 1', 'Model 2'])\n",
    "plt.grid()\n",
    "plt.show();"
   ]
  },
  {
   "cell_type": "code",
   "execution_count": 33,
   "id": "be97ff82",
   "metadata": {},
   "outputs": [],
   "source": [
    "#g. Based on my results, Model 1 was better most of the time. Therefore, I think \n",
    "#because it was the better the first time it ran, and then in the loop, model 1 \n",
    "#would be the best to proceed with!"
   ]
  },
  {
   "cell_type": "code",
   "execution_count": null,
   "id": "77f31f9f",
   "metadata": {},
   "outputs": [],
   "source": []
  }
 ],
 "metadata": {
  "kernelspec": {
   "display_name": "conda_python3",
   "language": "python",
   "name": "conda_python3"
  },
  "language_info": {
   "codemirror_mode": {
    "name": "ipython",
    "version": 3
   },
   "file_extension": ".py",
   "mimetype": "text/x-python",
   "name": "python",
   "nbconvert_exporter": "python",
   "pygments_lexer": "ipython3",
   "version": "3.8.12"
  }
 },
 "nbformat": 4,
 "nbformat_minor": 5
}

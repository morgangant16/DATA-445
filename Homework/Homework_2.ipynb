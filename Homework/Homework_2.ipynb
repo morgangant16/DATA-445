{
 "cells": [
  {
   "cell_type": "code",
   "execution_count": null,
   "id": "8444d73f",
   "metadata": {},
   "outputs": [],
   "source": [
    "#HW 2\n",
    "#1.Given 1000 records in a dataset, 1000 models are trained with 999 records as part of\n",
    "#the training sample and the remaining 1 sample for testing, and the error rate is averaged out,\n",
    "#this validation technique is called:\n",
    "    #c. LOOCV\n",
    "\n",
    "#2.In k-fold cross validation technique, the value of k being small could lead to which of\n",
    "#the following in relation to the error rate\n",
    "    #c. High Bias and Low variance \n",
    "    \n",
    "#3.In k-fold cross validation technique, the value of k being large could lead to which of\n",
    "#the following in relation to the error rate\n",
    "    #d. High bias and high variation\n",
    "    \n",
    "#4.Explain what regularization is and why it is useful\n",
    "    #Regularization is the process finding ways to ajust ML models \n",
    "    #to reduce losses and prevent overfitting/underfitting. "
   ]
  },
  {
   "cell_type": "code",
   "execution_count": null,
   "id": "54113b70",
   "metadata": {},
   "outputs": [],
   "source": [
    "import boto3\n",
    "import pandas as pd; pd.set_option('display.max_column', 100)\n",
    "import numpy as np\n",
    "\n",
    "s3= boto3.resource('s3')\n",
    "bucket_name= 'morgangant-bata-445-bucket'\n",
    "bucket= s3.Bucket(bucket_name)\n",
    "\n",
    "file_key= 'framingham.csv'\n",
    "\n",
    "bucket_object= bucket.Object(file_key)\n",
    "file_object = bucket_object.get()\n",
    "file_content_stream = file_object.get('Body')\n",
    "\n",
    "#reading the datefile\n",
    "heart = pd.read_csv(file_content_stream)\n",
    "heart.head()\n"
   ]
  }
 ],
 "metadata": {
  "kernelspec": {
   "display_name": "conda_python3",
   "language": "python",
   "name": "conda_python3"
  },
  "language_info": {
   "codemirror_mode": {
    "name": "ipython",
    "version": 3
   },
   "file_extension": ".py",
   "mimetype": "text/x-python",
   "name": "python",
   "nbconvert_exporter": "python",
   "pygments_lexer": "ipython3",
   "version": "3.8.12"
  }
 },
 "nbformat": 4,
 "nbformat_minor": 5
}
